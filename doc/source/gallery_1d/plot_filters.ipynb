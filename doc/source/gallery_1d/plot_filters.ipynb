{
  "cells": [
    {
      "cell_type": "code",
      "execution_count": null,
      "metadata": {
        "collapsed": false
      },
      "outputs": [],
      "source": [
        "%matplotlib inline"
      ]
    },
    {
      "cell_type": "markdown",
      "metadata": {},
      "source": [
        "\nPlot of the 1D Morlet filters used for the Scattering Transform\n===============================\nSee `filter_bank` for more informations about the wavelets used.\n\n"
      ]
    },
    {
      "cell_type": "code",
      "execution_count": null,
      "metadata": {
        "collapsed": false
      },
      "outputs": [],
      "source": [
        "import numpy as np\nimport matplotlib.pyplot as plt\nimport math\nfrom scattering.scattering1d.filter_bank import scattering_filter_factory"
      ]
    },
    {
      "cell_type": "markdown",
      "metadata": {},
      "source": [
        "Initial parameters of the filter bank\n-------------------------------------\n\n"
      ]
    },
    {
      "cell_type": "code",
      "execution_count": null,
      "metadata": {
        "collapsed": false
      },
      "outputs": [],
      "source": [
        "T = 2**13\nJ = 6\nQ = 8\n\nphi_fft, psi1_fft, psi2_fft, _ = scattering_filter_factory(math.log2(T), J, Q)"
      ]
    },
    {
      "cell_type": "markdown",
      "metadata": {},
      "source": [
        "Plot first-order (Q = 8) and second-order (Q = 1) wavelets along with their\nlowpass filters\n-------------------------------------\n\n"
      ]
    },
    {
      "cell_type": "code",
      "execution_count": null,
      "metadata": {
        "collapsed": false
      },
      "outputs": [],
      "source": [
        "fig, axs = plt.subplots(2, 1)\n\npsis_fft = (psi1_fft, psi2_fft)\nQs = (Q, 1)\n\nfor k in range(2):\n    axs[k].plot(np.arange(T)/T, phi_fft[0], 'b')\n    for key in psis_fft[k].keys():\n        axs[k].plot(np.arange(T)/T, psis_fft[k][key][0], 'b')\n    axs[k].set_xlim(0, 0.5)\n    axs[k].set_ylim(0, 1.2)\n    axs[k].set_xlabel('\\omega')\n    axs[k].set_ylabel('\\hat\\psi_j(\\omega)')\n    axs[k].set_title('Q = {}'.format(Qs[k]))\n\nfig.suptitle((\"Fourier transforms of wavelets for all scales j with the \"\n    \"corresponding lowpass filter.\"))\n\nplt.show()"
      ]
    }
  ],
  "metadata": {
    "kernelspec": {
      "display_name": "Python 3",
      "language": "python",
      "name": "python3"
    },
    "language_info": {
      "codemirror_mode": {
        "name": "ipython",
        "version": 3
      },
      "file_extension": ".py",
      "mimetype": "text/x-python",
      "name": "python",
      "nbconvert_exporter": "python",
      "pygments_lexer": "ipython3",
      "version": "3.6.6"
    }
  },
  "nbformat": 4,
  "nbformat_minor": 0
}