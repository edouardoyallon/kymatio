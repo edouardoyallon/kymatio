{
  "cells": [
    {
      "cell_type": "code",
      "execution_count": null,
      "metadata": {
        "collapsed": false
      },
      "outputs": [],
      "source": [
        "%matplotlib inline"
      ]
    },
    {
      "cell_type": "markdown",
      "metadata": {},
      "source": [
        "\nBenchmark the speed of the 1D scattering transform\n==================================================\nWe compute scattering transforms for signals of length `T = 2**16`, with scale\n`J = 10` and `Q = 8` wavelets per octave. The signals are stacked into batches\nof size `batch_size = 64` and the transform is computed `10` times to get an\naverage running time.\n\n"
      ]
    },
    {
      "cell_type": "code",
      "execution_count": null,
      "metadata": {
        "collapsed": false
      },
      "outputs": [],
      "source": [
        "import torch\nimport time\nimport scattering.scattering1d.backend as backend\nfrom scattering import Scattering1D"
      ]
    },
    {
      "cell_type": "markdown",
      "metadata": {},
      "source": [
        "Parameters for the benchmark\n----------------------------\n\n"
      ]
    },
    {
      "cell_type": "code",
      "execution_count": null,
      "metadata": {
        "collapsed": false
      },
      "outputs": [],
      "source": [
        "T = 2**16\nQ = 8\nJ = 10\n\nbatch_size = 64\n\ntimes = 10"
      ]
    },
    {
      "cell_type": "markdown",
      "metadata": {},
      "source": [
        "Set up the scattering object and the test data\n----------------------------------------------\n\n"
      ]
    },
    {
      "cell_type": "code",
      "execution_count": null,
      "metadata": {
        "collapsed": false
      },
      "outputs": [],
      "source": [
        "scattering = Scattering1D(T, J, Q)\n\nx_data = torch.randn(batch_size, 1, T, dtype=torch.float32)"
      ]
    },
    {
      "cell_type": "markdown",
      "metadata": {},
      "source": [
        "Benchmark the PyTorch backend\n-----------------------------\nIf we're using the this backend, compute scattering transforms both on CPU\nand GPU so that we can compare performance.\n\n"
      ]
    },
    {
      "cell_type": "code",
      "execution_count": null,
      "metadata": {
        "collapsed": false
      },
      "outputs": [],
      "source": [
        "if backend.NAME == 'torch':\n    devices = ['cpu']\n    if torch.cuda.is_available():\n        devices.append('gpu')\n\n    for device in devices:\n        fmt_str = '==> Testing Float32 with Torch backend, on {}, forward'\n        print(fmt_str.format(device.upper()))\n\n        if device == 'gpu':\n            scattering.cuda()\n            x_data = x_data.cuda()\n        else:\n            scattering.cpu()\n            x_data = x_data.cpu()\n\n        if device == 'gpu':\n            torch.cuda.synchronize()\n\n        t_start = time.time()\n        for _ in range(times):\n            scattering(x_data)\n\n        if device == 'gpu':\n            torch.cuda.synchronize()\n\n        t_elapsed = time.time() - t_start\n\n        fmt_str = 'Elapsed time: {:2f} [s / {:d} evals], avg: {:.2f} (s/batch)'\n        print(fmt_str.format(t_elapsed, times, t_elapsed/times))"
      ]
    }
  ],
  "metadata": {
    "kernelspec": {
      "display_name": "Python 3",
      "language": "python",
      "name": "python3"
    },
    "language_info": {
      "codemirror_mode": {
        "name": "ipython",
        "version": 3
      },
      "file_extension": ".py",
      "mimetype": "text/x-python",
      "name": "python",
      "nbconvert_exporter": "python",
      "pygments_lexer": "ipython3",
      "version": "3.6.6"
    }
  },
  "nbformat": 4,
  "nbformat_minor": 0
}